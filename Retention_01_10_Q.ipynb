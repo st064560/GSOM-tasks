{
  "nbformat": 4,
  "nbformat_minor": 0,
  "metadata": {
    "colab": {
      "name": "Retention_01.10.ipynb",
      "provenance": [],
      "authorship_tag": "ABX9TyMCp4+T1v63XNuyEVNsAGm0",
      "include_colab_link": true
    },
    "kernelspec": {
      "name": "python3",
      "display_name": "Python 3"
    }
  },
  "cells": [
    {
      "cell_type": "markdown",
      "metadata": {
        "id": "view-in-github",
        "colab_type": "text"
      },
      "source": [
        "<a href=\"https://colab.research.google.com/github/st064560/JB-tasks/blob/master/Retention_01_10_Q.ipynb\" target=\"_parent\"><img src=\"https://colab.research.google.com/assets/colab-badge.svg\" alt=\"Open In Colab\"/></a>"
      ]
    },
    {
      "cell_type": "code",
      "metadata": {
        "id": "vIp1rlX5gHiy"
      },
      "source": [
        "# импортируем библиотеки numpy и pandas\n",
        "import numpy as np\n",
        "import pandas as pd\n",
        "\n",
        "# импортируем библиотеку datetime для работы с датами\n",
        "import datetime\n",
        "from datetime import datetime, date\n",
        "\n",
        "# импортируем библиотеку matplotlib для построения графиков\n",
        "import matplotlib.pyplot as plt\n",
        "%matplotlib inline"
      ],
      "execution_count": 1,
      "outputs": []
    },
    {
      "cell_type": "code",
      "metadata": {
        "id": "UuKibSMGgeoa"
      },
      "source": [
        "#представим данные в виду датафрэйма\n",
        "df_2017 = pd.read_excel('/content/rfm_ord_2017.xlsx')\n",
        "df_2018 = pd.read_excel('/content/rfm_ord_2018.xlsx')\n",
        "df_2019 = pd.read_excel('/content/rfm_ord_2019.xlsx')\n",
        "df_2020 = pd.read_excel('/content/rfm_ord_2020.xlsx')\n"
      ],
      "execution_count": 2,
      "outputs": []
    },
    {
      "cell_type": "code",
      "metadata": {
        "id": "t6l0gFdog1ge"
      },
      "source": [
        "df = pd.concat([df_2017, df_2018, df_2019, df_2020], axis=0)"
      ],
      "execution_count": 3,
      "outputs": []
    },
    {
      "cell_type": "code",
      "metadata": {
        "id": "-tti3gGDg-yd",
        "outputId": "526663eb-078b-41ff-a9a1-3c3c5f6b257a",
        "colab": {
          "base_uri": "https://localhost:8080/",
          "height": 204
        }
      },
      "source": [
        "df.head()"
      ],
      "execution_count": 4,
      "outputs": [
        {
          "output_type": "execute_result",
          "data": {
            "text/html": [
              "<div>\n",
              "<style scoped>\n",
              "    .dataframe tbody tr th:only-of-type {\n",
              "        vertical-align: middle;\n",
              "    }\n",
              "\n",
              "    .dataframe tbody tr th {\n",
              "        vertical-align: top;\n",
              "    }\n",
              "\n",
              "    .dataframe thead th {\n",
              "        text-align: right;\n",
              "    }\n",
              "</style>\n",
              "<table border=\"1\" class=\"dataframe\">\n",
              "  <thead>\n",
              "    <tr style=\"text-align: right;\">\n",
              "      <th></th>\n",
              "      <th>InvoiceNo</th>\n",
              "      <th>InvoiceDate</th>\n",
              "      <th>Status</th>\n",
              "      <th>email</th>\n",
              "      <th>UnitPrice</th>\n",
              "    </tr>\n",
              "  </thead>\n",
              "  <tbody>\n",
              "    <tr>\n",
              "      <th>0</th>\n",
              "      <td>130696101</td>\n",
              "      <td>2017-01-01</td>\n",
              "      <td>complete</td>\n",
              "      <td>taguhi100@gmail.com</td>\n",
              "      <td>2112.50</td>\n",
              "    </tr>\n",
              "    <tr>\n",
              "      <th>1</th>\n",
              "      <td>130696108</td>\n",
              "      <td>2017-01-01</td>\n",
              "      <td>complete</td>\n",
              "      <td>sv-volchkovA@mail.ru</td>\n",
              "      <td>2112.50</td>\n",
              "    </tr>\n",
              "    <tr>\n",
              "      <th>2</th>\n",
              "      <td>130696121</td>\n",
              "      <td>2017-01-01</td>\n",
              "      <td>complete</td>\n",
              "      <td>bast@bk.ru</td>\n",
              "      <td>11759.99</td>\n",
              "    </tr>\n",
              "    <tr>\n",
              "      <th>3</th>\n",
              "      <td>130696132</td>\n",
              "      <td>2017-01-01</td>\n",
              "      <td>complete</td>\n",
              "      <td>akira_72@mail.ru</td>\n",
              "      <td>1835.44</td>\n",
              "    </tr>\n",
              "    <tr>\n",
              "      <th>4</th>\n",
              "      <td>130696148</td>\n",
              "      <td>2017-01-01</td>\n",
              "      <td>complete</td>\n",
              "      <td>oon-1986@mail.ru</td>\n",
              "      <td>2572.94</td>\n",
              "    </tr>\n",
              "  </tbody>\n",
              "</table>\n",
              "</div>"
            ],
            "text/plain": [
              "   InvoiceNo InvoiceDate    Status                 email  UnitPrice\n",
              "0  130696101  2017-01-01  complete   taguhi100@gmail.com    2112.50\n",
              "1  130696108  2017-01-01  complete  sv-volchkovA@mail.ru    2112.50\n",
              "2  130696121  2017-01-01  complete            bast@bk.ru   11759.99\n",
              "3  130696132  2017-01-01  complete      akira_72@mail.ru    1835.44\n",
              "4  130696148  2017-01-01  complete      oon-1986@mail.ru    2572.94"
            ]
          },
          "metadata": {
            "tags": []
          },
          "execution_count": 4
        }
      ]
    },
    {
      "cell_type": "code",
      "metadata": {
        "id": "csDX_77phBM6",
        "outputId": "1627adf7-0f1e-4df5-d7e8-47dcde654cd3",
        "colab": {
          "base_uri": "https://localhost:8080/",
          "height": 221
        }
      },
      "source": [
        "df.info()"
      ],
      "execution_count": 5,
      "outputs": [
        {
          "output_type": "stream",
          "text": [
            "<class 'pandas.core.frame.DataFrame'>\n",
            "Int64Index: 269378 entries, 0 to 61003\n",
            "Data columns (total 5 columns):\n",
            " #   Column       Non-Null Count   Dtype         \n",
            "---  ------       --------------   -----         \n",
            " 0   InvoiceNo    269378 non-null  object        \n",
            " 1   InvoiceDate  269378 non-null  datetime64[ns]\n",
            " 2   Status       269378 non-null  object        \n",
            " 3   email        269378 non-null  object        \n",
            " 4   UnitPrice    269378 non-null  float64       \n",
            "dtypes: datetime64[ns](1), float64(1), object(3)\n",
            "memory usage: 12.3+ MB\n"
          ],
          "name": "stdout"
        }
      ]
    },
    {
      "cell_type": "code",
      "metadata": {
        "id": "SLlQXJHXhGDB",
        "outputId": "ffe2e32b-5450-4dad-d669-deea9074dfe5",
        "colab": {
          "base_uri": "https://localhost:8080/",
          "height": 297
        }
      },
      "source": [
        "df.describe()"
      ],
      "execution_count": 6,
      "outputs": [
        {
          "output_type": "execute_result",
          "data": {
            "text/html": [
              "<div>\n",
              "<style scoped>\n",
              "    .dataframe tbody tr th:only-of-type {\n",
              "        vertical-align: middle;\n",
              "    }\n",
              "\n",
              "    .dataframe tbody tr th {\n",
              "        vertical-align: top;\n",
              "    }\n",
              "\n",
              "    .dataframe thead th {\n",
              "        text-align: right;\n",
              "    }\n",
              "</style>\n",
              "<table border=\"1\" class=\"dataframe\">\n",
              "  <thead>\n",
              "    <tr style=\"text-align: right;\">\n",
              "      <th></th>\n",
              "      <th>UnitPrice</th>\n",
              "    </tr>\n",
              "  </thead>\n",
              "  <tbody>\n",
              "    <tr>\n",
              "      <th>count</th>\n",
              "      <td>269378.000000</td>\n",
              "    </tr>\n",
              "    <tr>\n",
              "      <th>mean</th>\n",
              "      <td>2981.736209</td>\n",
              "    </tr>\n",
              "    <tr>\n",
              "      <th>std</th>\n",
              "      <td>2483.431095</td>\n",
              "    </tr>\n",
              "    <tr>\n",
              "      <th>min</th>\n",
              "      <td>0.000000</td>\n",
              "    </tr>\n",
              "    <tr>\n",
              "      <th>25%</th>\n",
              "      <td>1300.830000</td>\n",
              "    </tr>\n",
              "    <tr>\n",
              "      <th>50%</th>\n",
              "      <td>2721.670000</td>\n",
              "    </tr>\n",
              "    <tr>\n",
              "      <th>75%</th>\n",
              "      <td>4081.670000</td>\n",
              "    </tr>\n",
              "    <tr>\n",
              "      <th>max</th>\n",
              "      <td>83102.505600</td>\n",
              "    </tr>\n",
              "  </tbody>\n",
              "</table>\n",
              "</div>"
            ],
            "text/plain": [
              "           UnitPrice\n",
              "count  269378.000000\n",
              "mean     2981.736209\n",
              "std      2483.431095\n",
              "min         0.000000\n",
              "25%      1300.830000\n",
              "50%      2721.670000\n",
              "75%      4081.670000\n",
              "max     83102.505600"
            ]
          },
          "metadata": {
            "tags": []
          },
          "execution_count": 6
        }
      ]
    },
    {
      "cell_type": "code",
      "metadata": {
        "id": "IoAxKGZBhgYt",
        "outputId": "e0b29111-b080-4e43-caa9-e017a67fd660",
        "colab": {
          "base_uri": "https://localhost:8080/",
          "height": 419
        }
      },
      "source": [
        "df['ID'] = df['email'].astype('category').cat.codes \n",
        "df"
      ],
      "execution_count": 7,
      "outputs": [
        {
          "output_type": "execute_result",
          "data": {
            "text/html": [
              "<div>\n",
              "<style scoped>\n",
              "    .dataframe tbody tr th:only-of-type {\n",
              "        vertical-align: middle;\n",
              "    }\n",
              "\n",
              "    .dataframe tbody tr th {\n",
              "        vertical-align: top;\n",
              "    }\n",
              "\n",
              "    .dataframe thead th {\n",
              "        text-align: right;\n",
              "    }\n",
              "</style>\n",
              "<table border=\"1\" class=\"dataframe\">\n",
              "  <thead>\n",
              "    <tr style=\"text-align: right;\">\n",
              "      <th></th>\n",
              "      <th>InvoiceNo</th>\n",
              "      <th>InvoiceDate</th>\n",
              "      <th>Status</th>\n",
              "      <th>email</th>\n",
              "      <th>UnitPrice</th>\n",
              "      <th>ID</th>\n",
              "    </tr>\n",
              "  </thead>\n",
              "  <tbody>\n",
              "    <tr>\n",
              "      <th>0</th>\n",
              "      <td>130696101</td>\n",
              "      <td>2017-01-01 00:00:00</td>\n",
              "      <td>complete</td>\n",
              "      <td>taguhi100@gmail.com</td>\n",
              "      <td>2112.50</td>\n",
              "      <td>136904</td>\n",
              "    </tr>\n",
              "    <tr>\n",
              "      <th>1</th>\n",
              "      <td>130696108</td>\n",
              "      <td>2017-01-01 00:00:00</td>\n",
              "      <td>complete</td>\n",
              "      <td>sv-volchkovA@mail.ru</td>\n",
              "      <td>2112.50</td>\n",
              "      <td>134354</td>\n",
              "    </tr>\n",
              "    <tr>\n",
              "      <th>2</th>\n",
              "      <td>130696121</td>\n",
              "      <td>2017-01-01 00:00:00</td>\n",
              "      <td>complete</td>\n",
              "      <td>bast@bk.ru</td>\n",
              "      <td>11759.99</td>\n",
              "      <td>32896</td>\n",
              "    </tr>\n",
              "    <tr>\n",
              "      <th>3</th>\n",
              "      <td>130696132</td>\n",
              "      <td>2017-01-01 00:00:00</td>\n",
              "      <td>complete</td>\n",
              "      <td>akira_72@mail.ru</td>\n",
              "      <td>1835.44</td>\n",
              "      <td>19808</td>\n",
              "    </tr>\n",
              "    <tr>\n",
              "      <th>4</th>\n",
              "      <td>130696148</td>\n",
              "      <td>2017-01-01 00:00:00</td>\n",
              "      <td>complete</td>\n",
              "      <td>oon-1986@mail.ru</td>\n",
              "      <td>2572.94</td>\n",
              "      <td>114293</td>\n",
              "    </tr>\n",
              "    <tr>\n",
              "      <th>...</th>\n",
              "      <td>...</td>\n",
              "      <td>...</td>\n",
              "      <td>...</td>\n",
              "      <td>...</td>\n",
              "      <td>...</td>\n",
              "      <td>...</td>\n",
              "    </tr>\n",
              "    <tr>\n",
              "      <th>60999</th>\n",
              "      <td>132724566</td>\n",
              "      <td>2020-09-25 15:07:40</td>\n",
              "      <td>Заказ передан в курьерскую службу</td>\n",
              "      <td>nati1988.09@gmail.com</td>\n",
              "      <td>3799.00</td>\n",
              "      <td>105238</td>\n",
              "    </tr>\n",
              "    <tr>\n",
              "      <th>61000</th>\n",
              "      <td>132724583</td>\n",
              "      <td>2020-09-25 15:08:51</td>\n",
              "      <td>Заказ передан в курьерскую службу</td>\n",
              "      <td>aftabithm@yandex.ru</td>\n",
              "      <td>3463.00</td>\n",
              "      <td>19055</td>\n",
              "    </tr>\n",
              "    <tr>\n",
              "      <th>61001</th>\n",
              "      <td>132724587</td>\n",
              "      <td>2020-09-25 15:12:00</td>\n",
              "      <td>Заказ в обработке</td>\n",
              "      <td>spiridon4ikova@mail.ru</td>\n",
              "      <td>4025.00</td>\n",
              "      <td>132256</td>\n",
              "    </tr>\n",
              "    <tr>\n",
              "      <th>61002</th>\n",
              "      <td>132724593</td>\n",
              "      <td>2020-09-25 15:16:09</td>\n",
              "      <td>Заказ в обработке</td>\n",
              "      <td>vinter.a@mail.ru</td>\n",
              "      <td>4393.00</td>\n",
              "      <td>148329</td>\n",
              "    </tr>\n",
              "    <tr>\n",
              "      <th>61003</th>\n",
              "      <td>132724595</td>\n",
              "      <td>2020-09-25 15:23:51</td>\n",
              "      <td>Заказ в обработке</td>\n",
              "      <td>1992.pilipenko@gmail.com</td>\n",
              "      <td>228.00</td>\n",
              "      <td>1483</td>\n",
              "    </tr>\n",
              "  </tbody>\n",
              "</table>\n",
              "<p>269378 rows × 6 columns</p>\n",
              "</div>"
            ],
            "text/plain": [
              "       InvoiceNo         InvoiceDate  ... UnitPrice      ID\n",
              "0      130696101 2017-01-01 00:00:00  ...   2112.50  136904\n",
              "1      130696108 2017-01-01 00:00:00  ...   2112.50  134354\n",
              "2      130696121 2017-01-01 00:00:00  ...  11759.99   32896\n",
              "3      130696132 2017-01-01 00:00:00  ...   1835.44   19808\n",
              "4      130696148 2017-01-01 00:00:00  ...   2572.94  114293\n",
              "...          ...                 ...  ...       ...     ...\n",
              "60999  132724566 2020-09-25 15:07:40  ...   3799.00  105238\n",
              "61000  132724583 2020-09-25 15:08:51  ...   3463.00   19055\n",
              "61001  132724587 2020-09-25 15:12:00  ...   4025.00  132256\n",
              "61002  132724593 2020-09-25 15:16:09  ...   4393.00  148329\n",
              "61003  132724595 2020-09-25 15:23:51  ...    228.00    1483\n",
              "\n",
              "[269378 rows x 6 columns]"
            ]
          },
          "metadata": {
            "tags": []
          },
          "execution_count": 7
        }
      ]
    },
    {
      "cell_type": "code",
      "metadata": {
        "id": "vy9pLoJ0h7XR",
        "outputId": "9ef0b8aa-2194-4123-a146-c2284ec6d857",
        "colab": {
          "base_uri": "https://localhost:8080/",
          "height": 221
        }
      },
      "source": [
        "df.ID.value_counts()"
      ],
      "execution_count": 8,
      "outputs": [
        {
          "output_type": "execute_result",
          "data": {
            "text/plain": [
              "8788      80\n",
              "125267    77\n",
              "86165     70\n",
              "81266     60\n",
              "103619    59\n",
              "          ..\n",
              "57474      1\n",
              "59523      1\n",
              "53380      1\n",
              "55429      1\n",
              "0          1\n",
              "Name: ID, Length: 157227, dtype: int64"
            ]
          },
          "metadata": {
            "tags": []
          },
          "execution_count": 8
        }
      ]
    },
    {
      "cell_type": "code",
      "metadata": {
        "id": "uHaXLXC1jAvI"
      },
      "source": [
        "df = df.rename(columns={\"InvoiceNo\": \"order\", \"InvoiceDate\": \"order_date\",  \"UnitPrice\": \"price\"})"
      ],
      "execution_count": 9,
      "outputs": []
    },
    {
      "cell_type": "code",
      "metadata": {
        "id": "BmrJAhNkjahz"
      },
      "source": [
        "df['ID'] = df['ID'].astype(int)"
      ],
      "execution_count": 11,
      "outputs": []
    },
    {
      "cell_type": "code",
      "metadata": {
        "id": "DAOJTDDjjh-9",
        "outputId": "62f8ca29-867d-49df-8664-2bc7a4bb7a7a",
        "colab": {
          "base_uri": "https://localhost:8080/",
          "height": 34
        }
      },
      "source": [
        "n_orders = df.groupby(['ID'])['order'].nunique()\n",
        "mult_orders_perc = np.sum(n_orders > 1) / df['ID'].nunique()\n",
        "print(f'{100 * mult_orders_perc:.2f}% of customers ordered more than once.')"
      ],
      "execution_count": 13,
      "outputs": [
        {
          "output_type": "stream",
          "text": [
            "25.79% of customers ordered more than once.\n"
          ],
          "name": "stdout"
        }
      ]
    },
    {
      "cell_type": "code",
      "metadata": {
        "id": "l4i0cEb7jm5t"
      },
      "source": [
        "import pandas as pd\n",
        "import matplotlib.pyplot as plt\n",
        "import warnings\n",
        "import seaborn as sns\n",
        "from operator import attrgetter\n",
        "import matplotlib.colors as mcolors"
      ],
      "execution_count": 14,
      "outputs": []
    },
    {
      "cell_type": "code",
      "metadata": {
        "id": "3c2cABP8jt85"
      },
      "source": [
        "mn = df"
      ],
      "execution_count": 15,
      "outputs": []
    },
    {
      "cell_type": "code",
      "metadata": {
        "id": "HBfXrFcAjvvO"
      },
      "source": [
        "mn['order_month'] = mn['order_date'].dt.to_period('Q')\n",
        "mn['cohort'] = mn.groupby('ID')['order_date'] \\\n",
        "                 .transform('min') \\\n",
        "                 .dt.to_period('Q') "
      ],
      "execution_count": 16,
      "outputs": []
    },
    {
      "cell_type": "code",
      "metadata": {
        "id": "j2gS3UO2j0BI",
        "outputId": "2d50a8f5-a21a-4ea8-cb68-023c1e00770d",
        "colab": {
          "base_uri": "https://localhost:8080/",
          "height": 419
        }
      },
      "source": [
        "mn_cohort = mn.groupby(['cohort', 'order_month']) \\\n",
        "              .agg(n_customers=('ID', 'nunique')) \\\n",
        "              .reset_index(drop=False)\n",
        "mn_cohort['period_number'] = (mn_cohort.order_month - mn_cohort.cohort).apply(attrgetter('n'))\n",
        "mn_cohort"
      ],
      "execution_count": 17,
      "outputs": [
        {
          "output_type": "execute_result",
          "data": {
            "text/html": [
              "<div>\n",
              "<style scoped>\n",
              "    .dataframe tbody tr th:only-of-type {\n",
              "        vertical-align: middle;\n",
              "    }\n",
              "\n",
              "    .dataframe tbody tr th {\n",
              "        vertical-align: top;\n",
              "    }\n",
              "\n",
              "    .dataframe thead th {\n",
              "        text-align: right;\n",
              "    }\n",
              "</style>\n",
              "<table border=\"1\" class=\"dataframe\">\n",
              "  <thead>\n",
              "    <tr style=\"text-align: right;\">\n",
              "      <th></th>\n",
              "      <th>cohort</th>\n",
              "      <th>order_month</th>\n",
              "      <th>n_customers</th>\n",
              "      <th>period_number</th>\n",
              "    </tr>\n",
              "  </thead>\n",
              "  <tbody>\n",
              "    <tr>\n",
              "      <th>0</th>\n",
              "      <td>2017Q1</td>\n",
              "      <td>2017Q1</td>\n",
              "      <td>11155</td>\n",
              "      <td>0</td>\n",
              "    </tr>\n",
              "    <tr>\n",
              "      <th>1</th>\n",
              "      <td>2017Q1</td>\n",
              "      <td>2017Q2</td>\n",
              "      <td>1872</td>\n",
              "      <td>1</td>\n",
              "    </tr>\n",
              "    <tr>\n",
              "      <th>2</th>\n",
              "      <td>2017Q1</td>\n",
              "      <td>2017Q3</td>\n",
              "      <td>1749</td>\n",
              "      <td>2</td>\n",
              "    </tr>\n",
              "    <tr>\n",
              "      <th>3</th>\n",
              "      <td>2017Q1</td>\n",
              "      <td>2017Q4</td>\n",
              "      <td>1900</td>\n",
              "      <td>3</td>\n",
              "    </tr>\n",
              "    <tr>\n",
              "      <th>4</th>\n",
              "      <td>2017Q1</td>\n",
              "      <td>2018Q1</td>\n",
              "      <td>1782</td>\n",
              "      <td>4</td>\n",
              "    </tr>\n",
              "    <tr>\n",
              "      <th>...</th>\n",
              "      <td>...</td>\n",
              "      <td>...</td>\n",
              "      <td>...</td>\n",
              "      <td>...</td>\n",
              "    </tr>\n",
              "    <tr>\n",
              "      <th>115</th>\n",
              "      <td>2020Q1</td>\n",
              "      <td>2020Q2</td>\n",
              "      <td>982</td>\n",
              "      <td>1</td>\n",
              "    </tr>\n",
              "    <tr>\n",
              "      <th>116</th>\n",
              "      <td>2020Q1</td>\n",
              "      <td>2020Q3</td>\n",
              "      <td>735</td>\n",
              "      <td>2</td>\n",
              "    </tr>\n",
              "    <tr>\n",
              "      <th>117</th>\n",
              "      <td>2020Q2</td>\n",
              "      <td>2020Q2</td>\n",
              "      <td>12040</td>\n",
              "      <td>0</td>\n",
              "    </tr>\n",
              "    <tr>\n",
              "      <th>118</th>\n",
              "      <td>2020Q2</td>\n",
              "      <td>2020Q3</td>\n",
              "      <td>1315</td>\n",
              "      <td>1</td>\n",
              "    </tr>\n",
              "    <tr>\n",
              "      <th>119</th>\n",
              "      <td>2020Q3</td>\n",
              "      <td>2020Q3</td>\n",
              "      <td>7353</td>\n",
              "      <td>0</td>\n",
              "    </tr>\n",
              "  </tbody>\n",
              "</table>\n",
              "<p>120 rows × 4 columns</p>\n",
              "</div>"
            ],
            "text/plain": [
              "     cohort order_month  n_customers  period_number\n",
              "0    2017Q1      2017Q1        11155              0\n",
              "1    2017Q1      2017Q2         1872              1\n",
              "2    2017Q1      2017Q3         1749              2\n",
              "3    2017Q1      2017Q4         1900              3\n",
              "4    2017Q1      2018Q1         1782              4\n",
              "..      ...         ...          ...            ...\n",
              "115  2020Q1      2020Q2          982              1\n",
              "116  2020Q1      2020Q3          735              2\n",
              "117  2020Q2      2020Q2        12040              0\n",
              "118  2020Q2      2020Q3         1315              1\n",
              "119  2020Q3      2020Q3         7353              0\n",
              "\n",
              "[120 rows x 4 columns]"
            ]
          },
          "metadata": {
            "tags": []
          },
          "execution_count": 17
        }
      ]
    },
    {
      "cell_type": "code",
      "metadata": {
        "id": "ycgOHj8JkFlV"
      },
      "source": [
        "mn_cohort.to_excel('ret_table_01.10.xlsx')"
      ],
      "execution_count": 18,
      "outputs": []
    },
    {
      "cell_type": "code",
      "metadata": {
        "id": "cDB5c4QokRFt",
        "outputId": "92a688e2-0d5a-49cd-8b12-cc82a285b134",
        "colab": {
          "base_uri": "https://localhost:8080/",
          "height": 565
        }
      },
      "source": [
        "cohort_pivot = mn_cohort.pivot_table(index = 'cohort',\n",
        "                                     columns = 'period_number',\n",
        "                                     values = 'n_customers')\n",
        "\n",
        "cohort_pivot"
      ],
      "execution_count": 19,
      "outputs": [
        {
          "output_type": "execute_result",
          "data": {
            "text/html": [
              "<div>\n",
              "<style scoped>\n",
              "    .dataframe tbody tr th:only-of-type {\n",
              "        vertical-align: middle;\n",
              "    }\n",
              "\n",
              "    .dataframe tbody tr th {\n",
              "        vertical-align: top;\n",
              "    }\n",
              "\n",
              "    .dataframe thead th {\n",
              "        text-align: right;\n",
              "    }\n",
              "</style>\n",
              "<table border=\"1\" class=\"dataframe\">\n",
              "  <thead>\n",
              "    <tr style=\"text-align: right;\">\n",
              "      <th>period_number</th>\n",
              "      <th>0</th>\n",
              "      <th>1</th>\n",
              "      <th>2</th>\n",
              "      <th>3</th>\n",
              "      <th>4</th>\n",
              "      <th>5</th>\n",
              "      <th>6</th>\n",
              "      <th>7</th>\n",
              "      <th>8</th>\n",
              "      <th>9</th>\n",
              "      <th>10</th>\n",
              "      <th>11</th>\n",
              "      <th>12</th>\n",
              "      <th>13</th>\n",
              "      <th>14</th>\n",
              "    </tr>\n",
              "    <tr>\n",
              "      <th>cohort</th>\n",
              "      <th></th>\n",
              "      <th></th>\n",
              "      <th></th>\n",
              "      <th></th>\n",
              "      <th></th>\n",
              "      <th></th>\n",
              "      <th></th>\n",
              "      <th></th>\n",
              "      <th></th>\n",
              "      <th></th>\n",
              "      <th></th>\n",
              "      <th></th>\n",
              "      <th></th>\n",
              "      <th></th>\n",
              "      <th></th>\n",
              "    </tr>\n",
              "  </thead>\n",
              "  <tbody>\n",
              "    <tr>\n",
              "      <th>2017Q1</th>\n",
              "      <td>11155.0</td>\n",
              "      <td>1872.0</td>\n",
              "      <td>1749.0</td>\n",
              "      <td>1900.0</td>\n",
              "      <td>1782.0</td>\n",
              "      <td>1254.0</td>\n",
              "      <td>1469.0</td>\n",
              "      <td>1310.0</td>\n",
              "      <td>1117.0</td>\n",
              "      <td>890.0</td>\n",
              "      <td>1024.0</td>\n",
              "      <td>1087.0</td>\n",
              "      <td>1043.0</td>\n",
              "      <td>653.0</td>\n",
              "      <td>697.0</td>\n",
              "    </tr>\n",
              "    <tr>\n",
              "      <th>2017Q2</th>\n",
              "      <td>6898.0</td>\n",
              "      <td>847.0</td>\n",
              "      <td>1036.0</td>\n",
              "      <td>865.0</td>\n",
              "      <td>678.0</td>\n",
              "      <td>694.0</td>\n",
              "      <td>614.0</td>\n",
              "      <td>500.0</td>\n",
              "      <td>467.0</td>\n",
              "      <td>495.0</td>\n",
              "      <td>520.0</td>\n",
              "      <td>488.0</td>\n",
              "      <td>330.0</td>\n",
              "      <td>323.0</td>\n",
              "      <td>NaN</td>\n",
              "    </tr>\n",
              "    <tr>\n",
              "      <th>2017Q3</th>\n",
              "      <td>5173.0</td>\n",
              "      <td>740.0</td>\n",
              "      <td>694.0</td>\n",
              "      <td>445.0</td>\n",
              "      <td>562.0</td>\n",
              "      <td>479.0</td>\n",
              "      <td>377.0</td>\n",
              "      <td>300.0</td>\n",
              "      <td>355.0</td>\n",
              "      <td>389.0</td>\n",
              "      <td>376.0</td>\n",
              "      <td>222.0</td>\n",
              "      <td>251.0</td>\n",
              "      <td>NaN</td>\n",
              "      <td>NaN</td>\n",
              "    </tr>\n",
              "    <tr>\n",
              "      <th>2017Q4</th>\n",
              "      <td>11385.0</td>\n",
              "      <td>1003.0</td>\n",
              "      <td>720.0</td>\n",
              "      <td>772.0</td>\n",
              "      <td>795.0</td>\n",
              "      <td>541.0</td>\n",
              "      <td>415.0</td>\n",
              "      <td>508.0</td>\n",
              "      <td>583.0</td>\n",
              "      <td>497.0</td>\n",
              "      <td>335.0</td>\n",
              "      <td>354.0</td>\n",
              "      <td>NaN</td>\n",
              "      <td>NaN</td>\n",
              "      <td>NaN</td>\n",
              "    </tr>\n",
              "    <tr>\n",
              "      <th>2018Q1</th>\n",
              "      <td>7566.0</td>\n",
              "      <td>747.0</td>\n",
              "      <td>776.0</td>\n",
              "      <td>694.0</td>\n",
              "      <td>577.0</td>\n",
              "      <td>451.0</td>\n",
              "      <td>503.0</td>\n",
              "      <td>523.0</td>\n",
              "      <td>544.0</td>\n",
              "      <td>335.0</td>\n",
              "      <td>312.0</td>\n",
              "      <td>NaN</td>\n",
              "      <td>NaN</td>\n",
              "      <td>NaN</td>\n",
              "      <td>NaN</td>\n",
              "    </tr>\n",
              "    <tr>\n",
              "      <th>2018Q2</th>\n",
              "      <td>7684.0</td>\n",
              "      <td>1040.0</td>\n",
              "      <td>750.0</td>\n",
              "      <td>523.0</td>\n",
              "      <td>473.0</td>\n",
              "      <td>467.0</td>\n",
              "      <td>502.0</td>\n",
              "      <td>486.0</td>\n",
              "      <td>316.0</td>\n",
              "      <td>278.0</td>\n",
              "      <td>NaN</td>\n",
              "      <td>NaN</td>\n",
              "      <td>NaN</td>\n",
              "      <td>NaN</td>\n",
              "      <td>NaN</td>\n",
              "    </tr>\n",
              "    <tr>\n",
              "      <th>2018Q3</th>\n",
              "      <td>29707.0</td>\n",
              "      <td>1283.0</td>\n",
              "      <td>808.0</td>\n",
              "      <td>600.0</td>\n",
              "      <td>634.0</td>\n",
              "      <td>691.0</td>\n",
              "      <td>656.0</td>\n",
              "      <td>395.0</td>\n",
              "      <td>380.0</td>\n",
              "      <td>NaN</td>\n",
              "      <td>NaN</td>\n",
              "      <td>NaN</td>\n",
              "      <td>NaN</td>\n",
              "      <td>NaN</td>\n",
              "      <td>NaN</td>\n",
              "    </tr>\n",
              "    <tr>\n",
              "      <th>2018Q4</th>\n",
              "      <td>20369.0</td>\n",
              "      <td>1236.0</td>\n",
              "      <td>882.0</td>\n",
              "      <td>868.0</td>\n",
              "      <td>1001.0</td>\n",
              "      <td>832.0</td>\n",
              "      <td>495.0</td>\n",
              "      <td>463.0</td>\n",
              "      <td>NaN</td>\n",
              "      <td>NaN</td>\n",
              "      <td>NaN</td>\n",
              "      <td>NaN</td>\n",
              "      <td>NaN</td>\n",
              "      <td>NaN</td>\n",
              "      <td>NaN</td>\n",
              "    </tr>\n",
              "    <tr>\n",
              "      <th>2019Q1</th>\n",
              "      <td>5677.0</td>\n",
              "      <td>769.0</td>\n",
              "      <td>686.0</td>\n",
              "      <td>663.0</td>\n",
              "      <td>628.0</td>\n",
              "      <td>376.0</td>\n",
              "      <td>347.0</td>\n",
              "      <td>NaN</td>\n",
              "      <td>NaN</td>\n",
              "      <td>NaN</td>\n",
              "      <td>NaN</td>\n",
              "      <td>NaN</td>\n",
              "      <td>NaN</td>\n",
              "      <td>NaN</td>\n",
              "      <td>NaN</td>\n",
              "    </tr>\n",
              "    <tr>\n",
              "      <th>2019Q2</th>\n",
              "      <td>5576.0</td>\n",
              "      <td>950.0</td>\n",
              "      <td>767.0</td>\n",
              "      <td>744.0</td>\n",
              "      <td>509.0</td>\n",
              "      <td>396.0</td>\n",
              "      <td>NaN</td>\n",
              "      <td>NaN</td>\n",
              "      <td>NaN</td>\n",
              "      <td>NaN</td>\n",
              "      <td>NaN</td>\n",
              "      <td>NaN</td>\n",
              "      <td>NaN</td>\n",
              "      <td>NaN</td>\n",
              "      <td>NaN</td>\n",
              "    </tr>\n",
              "    <tr>\n",
              "      <th>2019Q3</th>\n",
              "      <td>6797.0</td>\n",
              "      <td>1085.0</td>\n",
              "      <td>886.0</td>\n",
              "      <td>592.0</td>\n",
              "      <td>521.0</td>\n",
              "      <td>NaN</td>\n",
              "      <td>NaN</td>\n",
              "      <td>NaN</td>\n",
              "      <td>NaN</td>\n",
              "      <td>NaN</td>\n",
              "      <td>NaN</td>\n",
              "      <td>NaN</td>\n",
              "      <td>NaN</td>\n",
              "      <td>NaN</td>\n",
              "      <td>NaN</td>\n",
              "    </tr>\n",
              "    <tr>\n",
              "      <th>2019Q4</th>\n",
              "      <td>10619.0</td>\n",
              "      <td>1555.0</td>\n",
              "      <td>886.0</td>\n",
              "      <td>791.0</td>\n",
              "      <td>NaN</td>\n",
              "      <td>NaN</td>\n",
              "      <td>NaN</td>\n",
              "      <td>NaN</td>\n",
              "      <td>NaN</td>\n",
              "      <td>NaN</td>\n",
              "      <td>NaN</td>\n",
              "      <td>NaN</td>\n",
              "      <td>NaN</td>\n",
              "      <td>NaN</td>\n",
              "      <td>NaN</td>\n",
              "    </tr>\n",
              "    <tr>\n",
              "      <th>2020Q1</th>\n",
              "      <td>9228.0</td>\n",
              "      <td>982.0</td>\n",
              "      <td>735.0</td>\n",
              "      <td>NaN</td>\n",
              "      <td>NaN</td>\n",
              "      <td>NaN</td>\n",
              "      <td>NaN</td>\n",
              "      <td>NaN</td>\n",
              "      <td>NaN</td>\n",
              "      <td>NaN</td>\n",
              "      <td>NaN</td>\n",
              "      <td>NaN</td>\n",
              "      <td>NaN</td>\n",
              "      <td>NaN</td>\n",
              "      <td>NaN</td>\n",
              "    </tr>\n",
              "    <tr>\n",
              "      <th>2020Q2</th>\n",
              "      <td>12040.0</td>\n",
              "      <td>1315.0</td>\n",
              "      <td>NaN</td>\n",
              "      <td>NaN</td>\n",
              "      <td>NaN</td>\n",
              "      <td>NaN</td>\n",
              "      <td>NaN</td>\n",
              "      <td>NaN</td>\n",
              "      <td>NaN</td>\n",
              "      <td>NaN</td>\n",
              "      <td>NaN</td>\n",
              "      <td>NaN</td>\n",
              "      <td>NaN</td>\n",
              "      <td>NaN</td>\n",
              "      <td>NaN</td>\n",
              "    </tr>\n",
              "    <tr>\n",
              "      <th>2020Q3</th>\n",
              "      <td>7353.0</td>\n",
              "      <td>NaN</td>\n",
              "      <td>NaN</td>\n",
              "      <td>NaN</td>\n",
              "      <td>NaN</td>\n",
              "      <td>NaN</td>\n",
              "      <td>NaN</td>\n",
              "      <td>NaN</td>\n",
              "      <td>NaN</td>\n",
              "      <td>NaN</td>\n",
              "      <td>NaN</td>\n",
              "      <td>NaN</td>\n",
              "      <td>NaN</td>\n",
              "      <td>NaN</td>\n",
              "      <td>NaN</td>\n",
              "    </tr>\n",
              "  </tbody>\n",
              "</table>\n",
              "</div>"
            ],
            "text/plain": [
              "period_number       0       1       2       3   ...      11      12     13     14\n",
              "cohort                                          ...                              \n",
              "2017Q1         11155.0  1872.0  1749.0  1900.0  ...  1087.0  1043.0  653.0  697.0\n",
              "2017Q2          6898.0   847.0  1036.0   865.0  ...   488.0   330.0  323.0    NaN\n",
              "2017Q3          5173.0   740.0   694.0   445.0  ...   222.0   251.0    NaN    NaN\n",
              "2017Q4         11385.0  1003.0   720.0   772.0  ...   354.0     NaN    NaN    NaN\n",
              "2018Q1          7566.0   747.0   776.0   694.0  ...     NaN     NaN    NaN    NaN\n",
              "2018Q2          7684.0  1040.0   750.0   523.0  ...     NaN     NaN    NaN    NaN\n",
              "2018Q3         29707.0  1283.0   808.0   600.0  ...     NaN     NaN    NaN    NaN\n",
              "2018Q4         20369.0  1236.0   882.0   868.0  ...     NaN     NaN    NaN    NaN\n",
              "2019Q1          5677.0   769.0   686.0   663.0  ...     NaN     NaN    NaN    NaN\n",
              "2019Q2          5576.0   950.0   767.0   744.0  ...     NaN     NaN    NaN    NaN\n",
              "2019Q3          6797.0  1085.0   886.0   592.0  ...     NaN     NaN    NaN    NaN\n",
              "2019Q4         10619.0  1555.0   886.0   791.0  ...     NaN     NaN    NaN    NaN\n",
              "2020Q1          9228.0   982.0   735.0     NaN  ...     NaN     NaN    NaN    NaN\n",
              "2020Q2         12040.0  1315.0     NaN     NaN  ...     NaN     NaN    NaN    NaN\n",
              "2020Q3          7353.0     NaN     NaN     NaN  ...     NaN     NaN    NaN    NaN\n",
              "\n",
              "[15 rows x 15 columns]"
            ]
          },
          "metadata": {
            "tags": []
          },
          "execution_count": 19
        }
      ]
    },
    {
      "cell_type": "code",
      "metadata": {
        "id": "tAoq_8jlkWtd"
      },
      "source": [
        "cohort_pivot.to_excel('ret_matrix_01.10.xlsx')"
      ],
      "execution_count": 20,
      "outputs": []
    },
    {
      "cell_type": "code",
      "metadata": {
        "id": "y8Z3_M19khQb"
      },
      "source": [
        "cohort_size = cohort_pivot.iloc[:,0]\n",
        "retention_matrix = cohort_pivot.divide(cohort_size, axis = 0)"
      ],
      "execution_count": 21,
      "outputs": []
    },
    {
      "cell_type": "code",
      "metadata": {
        "id": "_37e0dXDkic_"
      },
      "source": [
        "retention_matrix.to_excel('ret_perc_01.10.xlsx')"
      ],
      "execution_count": 22,
      "outputs": []
    },
    {
      "cell_type": "code",
      "metadata": {
        "id": "5jwypQ9FktFa",
        "outputId": "ae6dc8db-78e2-4b65-ce13-be2d734abcab",
        "colab": {
          "base_uri": "https://localhost:8080/",
          "height": 585
        }
      },
      "source": [
        "with sns.axes_style(\"white\"):\n",
        "    fig, ax = plt.subplots(1, 2, figsize=(12, 8), sharey=True, gridspec_kw={'width_ratios': [1, 11]})\n",
        "    \n",
        "    # retention matrix\n",
        "    sns.heatmap(retention_matrix, \n",
        "                mask=retention_matrix.isnull(), \n",
        "                annot=True, \n",
        "                fmt='.0%', \n",
        "                cmap='RdYlGn', \n",
        "                ax=ax[1])\n",
        "    ax[1].set_title('Monthly Cohorts: User Retention', fontsize=16)\n",
        "    ax[1].set(xlabel='# of periods',\n",
        "              ylabel='')\n",
        "\n",
        "    # cohort size\n",
        "    cohort_size_df = pd.DataFrame(cohort_size).rename(columns={0: 'cohort_size'})\n",
        "    white_cmap = mcolors.ListedColormap(['white'])\n",
        "    sns.heatmap(cohort_size_df, \n",
        "                annot=True, \n",
        "                cbar=False, \n",
        "                fmt='g', \n",
        "                cmap=white_cmap, \n",
        "                ax=ax[0])\n",
        "\n",
        "    fig.tight_layout()"
      ],
      "execution_count": 23,
      "outputs": [
        {
          "output_type": "display_data",
          "data": {
            "image/png": "[encoded data removed]",
            "text/plain": [
              "<Figure size 864x576 with 3 Axes>"
            ]
          },
          "metadata": {
            "tags": []
          }
        }
      ]
    }
  ]
}