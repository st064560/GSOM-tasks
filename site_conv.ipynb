{
  "nbformat": 4,
  "nbformat_minor": 0,
  "metadata": {
    "colab": {
      "name": "Untitled26.ipynb",
      "provenance": [],
      "collapsed_sections": [],
      "authorship_tag": "ABX9TyOHfFQH2XUlkrPQJtEfpoJm",
      "include_colab_link": true
    },
    "kernelspec": {
      "name": "python3",
      "display_name": "Python 3"
    }
  },
  "cells": [
    {
      "cell_type": "markdown",
      "metadata": {
        "id": "view-in-github",
        "colab_type": "text"
      },
      "source": [
        "<a href=\"https://colab.research.google.com/github/st064560/JB-tasks/blob/master/site_conv.ipynb\" target=\"_parent\"><img src=\"https://colab.research.google.com/assets/colab-badge.svg\" alt=\"Open In Colab\"/></a>"
      ]
    },
    {
      "cell_type": "code",
      "metadata": {
        "id": "RWHsTZVCnnym",
        "colab_type": "code",
        "colab": {}
      },
      "source": [
        "%matplotlib inline\n",
        "\n",
        "import pandas as pd\n",
        "import matplotlib.pyplot as plt"
      ],
      "execution_count": 1,
      "outputs": []
    },
    {
      "cell_type": "code",
      "metadata": {
        "id": "YJqIoBGioDtb",
        "colab_type": "code",
        "colab": {
          "base_uri": "https://localhost:8080/",
          "height": 403
        },
        "outputId": "2b0719ab-03f3-45b0-feec-86ce0dd9b45b"
      },
      "source": [
        "df = pd.read_csv('/content/Shopping stage - CID.csv')\n",
        "df.head(10)"
      ],
      "execution_count": 2,
      "outputs": [
        {
          "output_type": "stream",
          "text": [
            "/usr/local/lib/python3.6/dist-packages/IPython/core/interactiveshell.py:2718: DtypeWarning: Columns (1,2) have mixed types.Specify dtype option on import or set low_memory=False.\n",
            "  interactivity=interactivity, compiler=compiler, result=result)\n"
          ],
          "name": "stderr"
        },
        {
          "output_type": "execute_result",
          "data": {
            "text/html": [
              "<div>\n",
              "<style scoped>\n",
              "    .dataframe tbody tr th:only-of-type {\n",
              "        vertical-align: middle;\n",
              "    }\n",
              "\n",
              "    .dataframe tbody tr th {\n",
              "        vertical-align: top;\n",
              "    }\n",
              "\n",
              "    .dataframe thead th {\n",
              "        text-align: right;\n",
              "    }\n",
              "</style>\n",
              "<table border=\"1\" class=\"dataframe\">\n",
              "  <thead>\n",
              "    <tr style=\"text-align: right;\">\n",
              "      <th></th>\n",
              "      <th>Этап покупки</th>\n",
              "      <th>Cid</th>\n",
              "      <th>Дата</th>\n",
              "      <th>Сеансы</th>\n",
              "    </tr>\n",
              "  </thead>\n",
              "  <tbody>\n",
              "    <tr>\n",
              "      <th>0</th>\n",
              "      <td>(other)</td>\n",
              "      <td>(other)</td>\n",
              "      <td>(other)</td>\n",
              "      <td>29182538</td>\n",
              "    </tr>\n",
              "    <tr>\n",
              "      <th>1</th>\n",
              "      <td>ALL_VISITS</td>\n",
              "      <td>104443087.1585809236</td>\n",
              "      <td>20200402</td>\n",
              "      <td>107</td>\n",
              "    </tr>\n",
              "    <tr>\n",
              "      <th>2</th>\n",
              "      <td>NO_SHOPPING_ACTIVITY</td>\n",
              "      <td>913930248.1549569160</td>\n",
              "      <td>20190304</td>\n",
              "      <td>98</td>\n",
              "    </tr>\n",
              "    <tr>\n",
              "      <th>3</th>\n",
              "      <td>ALL_VISITS</td>\n",
              "      <td>355900195.1549635786</td>\n",
              "      <td>20190321</td>\n",
              "      <td>59</td>\n",
              "    </tr>\n",
              "    <tr>\n",
              "      <th>4</th>\n",
              "      <td>NO_SHOPPING_ACTIVITY</td>\n",
              "      <td>104443087.1585809236</td>\n",
              "      <td>20200402</td>\n",
              "      <td>56</td>\n",
              "    </tr>\n",
              "    <tr>\n",
              "      <th>5</th>\n",
              "      <td>NO_CART_ADDITION</td>\n",
              "      <td>104443087.1585809236</td>\n",
              "      <td>20200402</td>\n",
              "      <td>51</td>\n",
              "    </tr>\n",
              "    <tr>\n",
              "      <th>6</th>\n",
              "      <td>PRODUCT_VIEW</td>\n",
              "      <td>104443087.1585809236</td>\n",
              "      <td>20200402</td>\n",
              "      <td>51</td>\n",
              "    </tr>\n",
              "    <tr>\n",
              "      <th>7</th>\n",
              "      <td>ALL_VISITS</td>\n",
              "      <td>289013726.1549253662</td>\n",
              "      <td>20190204</td>\n",
              "      <td>40</td>\n",
              "    </tr>\n",
              "    <tr>\n",
              "      <th>8</th>\n",
              "      <td>NO_SHOPPING_ACTIVITY</td>\n",
              "      <td>289013726.1549253662</td>\n",
              "      <td>20190204</td>\n",
              "      <td>40</td>\n",
              "    </tr>\n",
              "    <tr>\n",
              "      <th>9</th>\n",
              "      <td>ALL_VISITS</td>\n",
              "      <td>71868501.1569838721</td>\n",
              "      <td>20191001</td>\n",
              "      <td>39</td>\n",
              "    </tr>\n",
              "  </tbody>\n",
              "</table>\n",
              "</div>"
            ],
            "text/plain": [
              "           Этап покупки                   Cid      Дата    Сеансы\n",
              "0               (other)               (other)   (other)  29182538\n",
              "1            ALL_VISITS  104443087.1585809236  20200402       107\n",
              "2  NO_SHOPPING_ACTIVITY  913930248.1549569160  20190304        98\n",
              "3            ALL_VISITS  355900195.1549635786  20190321        59\n",
              "4  NO_SHOPPING_ACTIVITY  104443087.1585809236  20200402        56\n",
              "5      NO_CART_ADDITION  104443087.1585809236  20200402        51\n",
              "6          PRODUCT_VIEW  104443087.1585809236  20200402        51\n",
              "7            ALL_VISITS  289013726.1549253662  20190204        40\n",
              "8  NO_SHOPPING_ACTIVITY  289013726.1549253662  20190204        40\n",
              "9            ALL_VISITS   71868501.1569838721  20191001        39"
            ]
          },
          "metadata": {
            "tags": []
          },
          "execution_count": 2
        }
      ]
    },
    {
      "cell_type": "code",
      "metadata": {
        "id": "eKm5hD1D3sV2",
        "colab_type": "code",
        "colab": {
          "base_uri": "https://localhost:8080/",
          "height": 212
        },
        "outputId": "0c2a6b12-c8c9-47f5-80eb-317d1363e22b"
      },
      "source": [
        "df.info()"
      ],
      "execution_count": 3,
      "outputs": [
        {
          "output_type": "stream",
          "text": [
            "<class 'pandas.core.frame.DataFrame'>\n",
            "RangeIndex: 3000000 entries, 0 to 2999999\n",
            "Data columns (total 4 columns):\n",
            " #   Column        Dtype \n",
            "---  ------        ----- \n",
            " 0   Этап покупки  object\n",
            " 1   Cid           object\n",
            " 2   Дата          object\n",
            " 3   Сеансы        int64 \n",
            "dtypes: int64(1), object(3)\n",
            "memory usage: 91.6+ MB\n"
          ],
          "name": "stdout"
        }
      ]
    },
    {
      "cell_type": "code",
      "metadata": {
        "id": "BDFIn5WCwUmf",
        "colab_type": "code",
        "colab": {
          "base_uri": "https://localhost:8080/",
          "height": 197
        },
        "outputId": "a55584f9-16ea-4033-a62f-7a22ae225d3f"
      },
      "source": [
        "\n",
        "df.head(5)"
      ],
      "execution_count": 7,
      "outputs": [
        {
          "output_type": "execute_result",
          "data": {
            "text/html": [
              "<div>\n",
              "<style scoped>\n",
              "    .dataframe tbody tr th:only-of-type {\n",
              "        vertical-align: middle;\n",
              "    }\n",
              "\n",
              "    .dataframe tbody tr th {\n",
              "        vertical-align: top;\n",
              "    }\n",
              "\n",
              "    .dataframe thead th {\n",
              "        text-align: right;\n",
              "    }\n",
              "</style>\n",
              "<table border=\"1\" class=\"dataframe\">\n",
              "  <thead>\n",
              "    <tr style=\"text-align: right;\">\n",
              "      <th></th>\n",
              "      <th>Этап покупки</th>\n",
              "      <th>Cid</th>\n",
              "      <th>Дата</th>\n",
              "      <th>Сеансы</th>\n",
              "    </tr>\n",
              "  </thead>\n",
              "  <tbody>\n",
              "    <tr>\n",
              "      <th>2</th>\n",
              "      <td>NO_SHOPPING_ACTIVITY</td>\n",
              "      <td>913930248.1549569160</td>\n",
              "      <td>20190304</td>\n",
              "      <td>98</td>\n",
              "    </tr>\n",
              "    <tr>\n",
              "      <th>3</th>\n",
              "      <td>ALL_VISITS</td>\n",
              "      <td>355900195.1549635786</td>\n",
              "      <td>20190321</td>\n",
              "      <td>59</td>\n",
              "    </tr>\n",
              "    <tr>\n",
              "      <th>4</th>\n",
              "      <td>NO_SHOPPING_ACTIVITY</td>\n",
              "      <td>104443087.1585809236</td>\n",
              "      <td>20200402</td>\n",
              "      <td>56</td>\n",
              "    </tr>\n",
              "    <tr>\n",
              "      <th>5</th>\n",
              "      <td>NO_CART_ADDITION</td>\n",
              "      <td>104443087.1585809236</td>\n",
              "      <td>20200402</td>\n",
              "      <td>51</td>\n",
              "    </tr>\n",
              "    <tr>\n",
              "      <th>6</th>\n",
              "      <td>PRODUCT_VIEW</td>\n",
              "      <td>104443087.1585809236</td>\n",
              "      <td>20200402</td>\n",
              "      <td>51</td>\n",
              "    </tr>\n",
              "  </tbody>\n",
              "</table>\n",
              "</div>"
            ],
            "text/plain": [
              "           Этап покупки                   Cid      Дата  Сеансы\n",
              "2  NO_SHOPPING_ACTIVITY  913930248.1549569160  20190304      98\n",
              "3            ALL_VISITS  355900195.1549635786  20190321      59\n",
              "4  NO_SHOPPING_ACTIVITY  104443087.1585809236  20200402      56\n",
              "5      NO_CART_ADDITION  104443087.1585809236  20200402      51\n",
              "6          PRODUCT_VIEW  104443087.1585809236  20200402      51"
            ]
          },
          "metadata": {
            "tags": []
          },
          "execution_count": 7
        }
      ]
    },
    {
      "cell_type": "code",
      "metadata": {
        "id": "VIyAVAOn04J5",
        "colab_type": "code",
        "colab": {
          "base_uri": "https://localhost:8080/",
          "height": 197
        },
        "outputId": "e4267801-e5c3-47fc-ac16-bcfac0e4f371"
      },
      "source": [
        "date = df['Дата']\n",
        "\n",
        "\n",
        "df['Дата'] = pd.to_datetime(date, format='%Y%m%d')\n",
        "\n",
        "df.head(5)"
      ],
      "execution_count": 10,
      "outputs": [
        {
          "output_type": "execute_result",
          "data": {
            "text/html": [
              "<div>\n",
              "<style scoped>\n",
              "    .dataframe tbody tr th:only-of-type {\n",
              "        vertical-align: middle;\n",
              "    }\n",
              "\n",
              "    .dataframe tbody tr th {\n",
              "        vertical-align: top;\n",
              "    }\n",
              "\n",
              "    .dataframe thead th {\n",
              "        text-align: right;\n",
              "    }\n",
              "</style>\n",
              "<table border=\"1\" class=\"dataframe\">\n",
              "  <thead>\n",
              "    <tr style=\"text-align: right;\">\n",
              "      <th></th>\n",
              "      <th>Этап покупки</th>\n",
              "      <th>Cid</th>\n",
              "      <th>Дата</th>\n",
              "      <th>Сеансы</th>\n",
              "    </tr>\n",
              "  </thead>\n",
              "  <tbody>\n",
              "    <tr>\n",
              "      <th>2</th>\n",
              "      <td>NO_SHOPPING_ACTIVITY</td>\n",
              "      <td>913930248.1549569160</td>\n",
              "      <td>2019-03-04</td>\n",
              "      <td>98</td>\n",
              "    </tr>\n",
              "    <tr>\n",
              "      <th>3</th>\n",
              "      <td>ALL_VISITS</td>\n",
              "      <td>355900195.1549635786</td>\n",
              "      <td>2019-03-21</td>\n",
              "      <td>59</td>\n",
              "    </tr>\n",
              "    <tr>\n",
              "      <th>4</th>\n",
              "      <td>NO_SHOPPING_ACTIVITY</td>\n",
              "      <td>104443087.1585809236</td>\n",
              "      <td>2020-04-02</td>\n",
              "      <td>56</td>\n",
              "    </tr>\n",
              "    <tr>\n",
              "      <th>5</th>\n",
              "      <td>NO_CART_ADDITION</td>\n",
              "      <td>104443087.1585809236</td>\n",
              "      <td>2020-04-02</td>\n",
              "      <td>51</td>\n",
              "    </tr>\n",
              "    <tr>\n",
              "      <th>6</th>\n",
              "      <td>PRODUCT_VIEW</td>\n",
              "      <td>104443087.1585809236</td>\n",
              "      <td>2020-04-02</td>\n",
              "      <td>51</td>\n",
              "    </tr>\n",
              "  </tbody>\n",
              "</table>\n",
              "</div>"
            ],
            "text/plain": [
              "           Этап покупки                   Cid       Дата  Сеансы\n",
              "2  NO_SHOPPING_ACTIVITY  913930248.1549569160 2019-03-04      98\n",
              "3            ALL_VISITS  355900195.1549635786 2019-03-21      59\n",
              "4  NO_SHOPPING_ACTIVITY  104443087.1585809236 2020-04-02      56\n",
              "5      NO_CART_ADDITION  104443087.1585809236 2020-04-02      51\n",
              "6          PRODUCT_VIEW  104443087.1585809236 2020-04-02      51"
            ]
          },
          "metadata": {
            "tags": []
          },
          "execution_count": 10
        }
      ]
    },
    {
      "cell_type": "code",
      "metadata": {
        "id": "ByyQwDUw1pkR",
        "colab_type": "code",
        "colab": {
          "base_uri": "https://localhost:8080/",
          "height": 603
        },
        "outputId": "1f1985e1-5589-4baa-97c2-b4a9c96e6267"
      },
      "source": [
        "df['Этап покупки'].value_counts()"
      ],
      "execution_count": 11,
      "outputs": [
        {
          "output_type": "execute_result",
          "data": {
            "text/plain": [
              "ALL_VISITS                        1121527\n",
              "NO_SHOPPING_ACTIVITY               853611\n",
              "PRODUCT_VIEW                       286742\n",
              "NO_CART_ADDITION                   240754\n",
              "ADD_TO_CART                         75705\n",
              "CART_ABANDONMENT                    54655\n",
              "ADD_TO_CART_WITH_VIEW               51441\n",
              "NO_PRODUCT_VIEW                     33833\n",
              "ADD_TO_CART_WITHOUT_VIEW            30345\n",
              "CHECKOUT                            30290\n",
              "CHECKOUT_1                          28175\n",
              "CHECKOUT_WITH_CART_ADDITION         26182\n",
              "CHECKOUT_3                          22125\n",
              "CHECKOUT_4                          21527\n",
              "CHECKOUT_2                          20472\n",
              "CHECKOUT_ABANDONMENT                20182\n",
              "CHECKOUT_5                          16739\n",
              "CHECKOUT_6                          12993\n",
              "TRANSACTION                         11991\n",
              "CHECKOUT_3_WITHOUT_CHECKOUT_2       10592\n",
              "CHECKOUT_2_ABANDONMENT               8294\n",
              "CHECKOUT_4_ABANDONMENT               6054\n",
              "CHECKOUT_WITHOUT_CART_ADDITION       5738\n",
              "CHECKOUT_5_ABANDONMENT               4238\n",
              "CHECKOUT_2_WITHOUT_CHECKOUT_1        1866\n",
              "CHECKOUT_6_ABANDONMENT               1832\n",
              "CHECKOUT_5_WITHOUT_CHECKOUT_4         645\n",
              "CHECKOUT_1_ABANDONMENT                491\n",
              "CHECKOUT_3_ABANDONMENT                408\n",
              "CHECKOUT_4_WITHOUT_CHECKOUT_3         339\n",
              "CHECKOUT_6_WITHOUT_CHECKOUT_5         117\n",
              "TRANSACTION_WITHOUT_CHECKOUT           95\n",
              "Name: Этап покупки, dtype: int64"
            ]
          },
          "metadata": {
            "tags": []
          },
          "execution_count": 11
        }
      ]
    },
    {
      "cell_type": "code",
      "metadata": {
        "id": "KVehZYMw2YoF",
        "colab_type": "code",
        "colab": {}
      },
      "source": [
        "all_vis = df[(df['Этап покупки'] == 'PRODUCT_VIEW')]\n",
        "\n"
      ],
      "execution_count": 35,
      "outputs": []
    },
    {
      "cell_type": "code",
      "metadata": {
        "id": "JewWwLoEIa43",
        "colab_type": "code",
        "colab": {
          "base_uri": "https://localhost:8080/",
          "height": 197
        },
        "outputId": "2da31b50-4f67-43f8-a531-103528b4b7ed"
      },
      "source": [
        "all_vis.head(5)"
      ],
      "execution_count": 36,
      "outputs": [
        {
          "output_type": "execute_result",
          "data": {
            "text/html": [
              "<div>\n",
              "<style scoped>\n",
              "    .dataframe tbody tr th:only-of-type {\n",
              "        vertical-align: middle;\n",
              "    }\n",
              "\n",
              "    .dataframe tbody tr th {\n",
              "        vertical-align: top;\n",
              "    }\n",
              "\n",
              "    .dataframe thead th {\n",
              "        text-align: right;\n",
              "    }\n",
              "</style>\n",
              "<table border=\"1\" class=\"dataframe\">\n",
              "  <thead>\n",
              "    <tr style=\"text-align: right;\">\n",
              "      <th></th>\n",
              "      <th>Этап покупки</th>\n",
              "      <th>Cid</th>\n",
              "      <th>Дата</th>\n",
              "      <th>Сеансы</th>\n",
              "    </tr>\n",
              "  </thead>\n",
              "  <tbody>\n",
              "    <tr>\n",
              "      <th>6</th>\n",
              "      <td>PRODUCT_VIEW</td>\n",
              "      <td>104443087.1585809236</td>\n",
              "      <td>2020-04-02</td>\n",
              "      <td>51</td>\n",
              "    </tr>\n",
              "    <tr>\n",
              "      <th>17</th>\n",
              "      <td>PRODUCT_VIEW</td>\n",
              "      <td>829878679.1557307218</td>\n",
              "      <td>2019-05-08</td>\n",
              "      <td>34</td>\n",
              "    </tr>\n",
              "    <tr>\n",
              "      <th>38</th>\n",
              "      <td>PRODUCT_VIEW</td>\n",
              "      <td>34003299.1591269385</td>\n",
              "      <td>2020-06-22</td>\n",
              "      <td>24</td>\n",
              "    </tr>\n",
              "    <tr>\n",
              "      <th>39</th>\n",
              "      <td>PRODUCT_VIEW</td>\n",
              "      <td>514097483.1548949019</td>\n",
              "      <td>2019-02-07</td>\n",
              "      <td>24</td>\n",
              "    </tr>\n",
              "    <tr>\n",
              "      <th>46</th>\n",
              "      <td>PRODUCT_VIEW</td>\n",
              "      <td>453062415.1561970020</td>\n",
              "      <td>2019-07-01</td>\n",
              "      <td>23</td>\n",
              "    </tr>\n",
              "  </tbody>\n",
              "</table>\n",
              "</div>"
            ],
            "text/plain": [
              "    Этап покупки                   Cid       Дата  Сеансы\n",
              "6   PRODUCT_VIEW  104443087.1585809236 2020-04-02      51\n",
              "17  PRODUCT_VIEW  829878679.1557307218 2019-05-08      34\n",
              "38  PRODUCT_VIEW   34003299.1591269385 2020-06-22      24\n",
              "39  PRODUCT_VIEW  514097483.1548949019 2019-02-07      24\n",
              "46  PRODUCT_VIEW  453062415.1561970020 2019-07-01      23"
            ]
          },
          "metadata": {
            "tags": []
          },
          "execution_count": 36
        }
      ]
    },
    {
      "cell_type": "code",
      "metadata": {
        "id": "B0F4XSquJEfx",
        "colab_type": "code",
        "colab": {}
      },
      "source": [
        "# импортируем библиотеки numpy и pandas\n",
        "import numpy as np\n",
        "import pandas as pd\n",
        "\n",
        "# импортируем библиотеку datetime для работы с датами\n",
        "import datetime\n",
        "from datetime import datetime, date\n",
        "\n",
        "# импортируем библиотеку matplotlib для построения графиков\n",
        "import matplotlib.pyplot as plt\n",
        "%matplotlib inline"
      ],
      "execution_count": 15,
      "outputs": []
    },
    {
      "cell_type": "code",
      "metadata": {
        "id": "2mBH-2GKJUSw",
        "colab_type": "code",
        "colab": {}
      },
      "source": [
        "all_vis = all_vis.rename(columns={\"Этап покупки\": \"category\", \"Cid\": \"ID\",  \"Дата\": \"date\",  \"Сеансы\": \"perf\"})"
      ],
      "execution_count": 37,
      "outputs": []
    },
    {
      "cell_type": "code",
      "metadata": {
        "id": "P9-7CbLqKBXm",
        "colab_type": "code",
        "colab": {
          "base_uri": "https://localhost:8080/",
          "height": 197
        },
        "outputId": "45d7235b-da8f-4d50-ac0e-7fb6fecb2d7e"
      },
      "source": [
        "all_vis['name'] = all_vis['ID'].astype('category').cat.codes \n",
        "all_vis.head(5)"
      ],
      "execution_count": 38,
      "outputs": [
        {
          "output_type": "execute_result",
          "data": {
            "text/html": [
              "<div>\n",
              "<style scoped>\n",
              "    .dataframe tbody tr th:only-of-type {\n",
              "        vertical-align: middle;\n",
              "    }\n",
              "\n",
              "    .dataframe tbody tr th {\n",
              "        vertical-align: top;\n",
              "    }\n",
              "\n",
              "    .dataframe thead th {\n",
              "        text-align: right;\n",
              "    }\n",
              "</style>\n",
              "<table border=\"1\" class=\"dataframe\">\n",
              "  <thead>\n",
              "    <tr style=\"text-align: right;\">\n",
              "      <th></th>\n",
              "      <th>category</th>\n",
              "      <th>ID</th>\n",
              "      <th>date</th>\n",
              "      <th>perf</th>\n",
              "      <th>name</th>\n",
              "    </tr>\n",
              "  </thead>\n",
              "  <tbody>\n",
              "    <tr>\n",
              "      <th>6</th>\n",
              "      <td>PRODUCT_VIEW</td>\n",
              "      <td>104443087.1585809236</td>\n",
              "      <td>2020-04-02</td>\n",
              "      <td>51</td>\n",
              "      <td>220085</td>\n",
              "    </tr>\n",
              "    <tr>\n",
              "      <th>17</th>\n",
              "      <td>PRODUCT_VIEW</td>\n",
              "      <td>829878679.1557307218</td>\n",
              "      <td>2019-05-08</td>\n",
              "      <td>34</td>\n",
              "      <td>225409</td>\n",
              "    </tr>\n",
              "    <tr>\n",
              "      <th>38</th>\n",
              "      <td>PRODUCT_VIEW</td>\n",
              "      <td>34003299.1591269385</td>\n",
              "      <td>2020-06-22</td>\n",
              "      <td>24</td>\n",
              "      <td>222566</td>\n",
              "    </tr>\n",
              "    <tr>\n",
              "      <th>39</th>\n",
              "      <td>PRODUCT_VIEW</td>\n",
              "      <td>514097483.1548949019</td>\n",
              "      <td>2019-02-07</td>\n",
              "      <td>24</td>\n",
              "      <td>223937</td>\n",
              "    </tr>\n",
              "    <tr>\n",
              "      <th>46</th>\n",
              "      <td>PRODUCT_VIEW</td>\n",
              "      <td>453062415.1561970020</td>\n",
              "      <td>2019-07-01</td>\n",
              "      <td>23</td>\n",
              "      <td>223500</td>\n",
              "    </tr>\n",
              "  </tbody>\n",
              "</table>\n",
              "</div>"
            ],
            "text/plain": [
              "        category                    ID       date  perf    name\n",
              "6   PRODUCT_VIEW  104443087.1585809236 2020-04-02    51  220085\n",
              "17  PRODUCT_VIEW  829878679.1557307218 2019-05-08    34  225409\n",
              "38  PRODUCT_VIEW   34003299.1591269385 2020-06-22    24  222566\n",
              "39  PRODUCT_VIEW  514097483.1548949019 2019-02-07    24  223937\n",
              "46  PRODUCT_VIEW  453062415.1561970020 2019-07-01    23  223500"
            ]
          },
          "metadata": {
            "tags": []
          },
          "execution_count": 38
        }
      ]
    },
    {
      "cell_type": "code",
      "metadata": {
        "id": "gduCDjcSKauV",
        "colab_type": "code",
        "colab": {}
      },
      "source": [
        "all_vis['name'] = all_vis['name'].astype(int)"
      ],
      "execution_count": 39,
      "outputs": []
    },
    {
      "cell_type": "code",
      "metadata": {
        "id": "Subj71q4KxMQ",
        "colab_type": "code",
        "colab": {}
      },
      "source": [
        "import pandas as pd\n",
        "import matplotlib.pyplot as plt\n",
        "import warnings\n",
        "import seaborn as sns\n",
        "from operator import attrgetter\n",
        "import matplotlib.colors as mcolors"
      ],
      "execution_count": 40,
      "outputs": []
    },
    {
      "cell_type": "code",
      "metadata": {
        "id": "51TJ59eUK4Om",
        "colab_type": "code",
        "colab": {}
      },
      "source": [
        "mn = all_vis.copy()"
      ],
      "execution_count": 41,
      "outputs": []
    },
    {
      "cell_type": "code",
      "metadata": {
        "id": "eyPA7gG3Kxuw",
        "colab_type": "code",
        "colab": {
          "base_uri": "https://localhost:8080/",
          "height": 406
        },
        "outputId": "efd6a9e2-4440-4c7e-b2b8-f71ebef4598d"
      },
      "source": [
        "mn['order_month'] = mn['date'].dt.to_period('M')\n",
        "mn['cohort'] = mn.groupby('name')['date'] \\\n",
        "                 .transform('min') \\\n",
        "                 .dt.to_period('M') \n",
        "\n",
        "mn"
      ],
      "execution_count": 42,
      "outputs": [
        {
          "output_type": "execute_result",
          "data": {
            "text/html": [
              "<div>\n",
              "<style scoped>\n",
              "    .dataframe tbody tr th:only-of-type {\n",
              "        vertical-align: middle;\n",
              "    }\n",
              "\n",
              "    .dataframe tbody tr th {\n",
              "        vertical-align: top;\n",
              "    }\n",
              "\n",
              "    .dataframe thead th {\n",
              "        text-align: right;\n",
              "    }\n",
              "</style>\n",
              "<table border=\"1\" class=\"dataframe\">\n",
              "  <thead>\n",
              "    <tr style=\"text-align: right;\">\n",
              "      <th></th>\n",
              "      <th>category</th>\n",
              "      <th>ID</th>\n",
              "      <th>date</th>\n",
              "      <th>perf</th>\n",
              "      <th>name</th>\n",
              "      <th>order_month</th>\n",
              "      <th>cohort</th>\n",
              "    </tr>\n",
              "  </thead>\n",
              "  <tbody>\n",
              "    <tr>\n",
              "      <th>6</th>\n",
              "      <td>PRODUCT_VIEW</td>\n",
              "      <td>104443087.1585809236</td>\n",
              "      <td>2020-04-02</td>\n",
              "      <td>51</td>\n",
              "      <td>220085</td>\n",
              "      <td>2020-04</td>\n",
              "      <td>2020-04</td>\n",
              "    </tr>\n",
              "    <tr>\n",
              "      <th>17</th>\n",
              "      <td>PRODUCT_VIEW</td>\n",
              "      <td>829878679.1557307218</td>\n",
              "      <td>2019-05-08</td>\n",
              "      <td>34</td>\n",
              "      <td>225409</td>\n",
              "      <td>2019-05</td>\n",
              "      <td>2019-05</td>\n",
              "    </tr>\n",
              "    <tr>\n",
              "      <th>38</th>\n",
              "      <td>PRODUCT_VIEW</td>\n",
              "      <td>34003299.1591269385</td>\n",
              "      <td>2020-06-22</td>\n",
              "      <td>24</td>\n",
              "      <td>222566</td>\n",
              "      <td>2020-06</td>\n",
              "      <td>2020-06</td>\n",
              "    </tr>\n",
              "    <tr>\n",
              "      <th>39</th>\n",
              "      <td>PRODUCT_VIEW</td>\n",
              "      <td>514097483.1548949019</td>\n",
              "      <td>2019-02-07</td>\n",
              "      <td>24</td>\n",
              "      <td>223937</td>\n",
              "      <td>2019-02</td>\n",
              "      <td>2019-02</td>\n",
              "    </tr>\n",
              "    <tr>\n",
              "      <th>46</th>\n",
              "      <td>PRODUCT_VIEW</td>\n",
              "      <td>453062415.1561970020</td>\n",
              "      <td>2019-07-01</td>\n",
              "      <td>23</td>\n",
              "      <td>223500</td>\n",
              "      <td>2019-07</td>\n",
              "      <td>2019-07</td>\n",
              "    </tr>\n",
              "    <tr>\n",
              "      <th>...</th>\n",
              "      <td>...</td>\n",
              "      <td>...</td>\n",
              "      <td>...</td>\n",
              "      <td>...</td>\n",
              "      <td>...</td>\n",
              "      <td>...</td>\n",
              "      <td>...</td>\n",
              "    </tr>\n",
              "    <tr>\n",
              "      <th>2988012</th>\n",
              "      <td>PRODUCT_VIEW</td>\n",
              "      <td>9.99993e+08</td>\n",
              "      <td>2019-07-14</td>\n",
              "      <td>1</td>\n",
              "      <td>218508</td>\n",
              "      <td>2019-07</td>\n",
              "      <td>2019-07</td>\n",
              "    </tr>\n",
              "    <tr>\n",
              "      <th>2988013</th>\n",
              "      <td>PRODUCT_VIEW</td>\n",
              "      <td>9.99993e+08</td>\n",
              "      <td>2019-09-04</td>\n",
              "      <td>1</td>\n",
              "      <td>218508</td>\n",
              "      <td>2019-09</td>\n",
              "      <td>2019-07</td>\n",
              "    </tr>\n",
              "    <tr>\n",
              "      <th>2988014</th>\n",
              "      <td>PRODUCT_VIEW</td>\n",
              "      <td>9.99993e+08</td>\n",
              "      <td>2019-10-29</td>\n",
              "      <td>1</td>\n",
              "      <td>218508</td>\n",
              "      <td>2019-10</td>\n",
              "      <td>2019-07</td>\n",
              "    </tr>\n",
              "    <tr>\n",
              "      <th>2988015</th>\n",
              "      <td>PRODUCT_VIEW</td>\n",
              "      <td>9.99994e+07</td>\n",
              "      <td>2020-04-21</td>\n",
              "      <td>1</td>\n",
              "      <td>58425</td>\n",
              "      <td>2020-04</td>\n",
              "      <td>2020-04</td>\n",
              "    </tr>\n",
              "    <tr>\n",
              "      <th>2988016</th>\n",
              "      <td>PRODUCT_VIEW</td>\n",
              "      <td>9.99999e+07</td>\n",
              "      <td>2019-10-08</td>\n",
              "      <td>1</td>\n",
              "      <td>58426</td>\n",
              "      <td>2019-10</td>\n",
              "      <td>2019-10</td>\n",
              "    </tr>\n",
              "  </tbody>\n",
              "</table>\n",
              "<p>286742 rows × 7 columns</p>\n",
              "</div>"
            ],
            "text/plain": [
              "             category                    ID  ... order_month   cohort\n",
              "6        PRODUCT_VIEW  104443087.1585809236  ...     2020-04  2020-04\n",
              "17       PRODUCT_VIEW  829878679.1557307218  ...     2019-05  2019-05\n",
              "38       PRODUCT_VIEW   34003299.1591269385  ...     2020-06  2020-06\n",
              "39       PRODUCT_VIEW  514097483.1548949019  ...     2019-02  2019-02\n",
              "46       PRODUCT_VIEW  453062415.1561970020  ...     2019-07  2019-07\n",
              "...               ...                   ...  ...         ...      ...\n",
              "2988012  PRODUCT_VIEW           9.99993e+08  ...     2019-07  2019-07\n",
              "2988013  PRODUCT_VIEW           9.99993e+08  ...     2019-09  2019-07\n",
              "2988014  PRODUCT_VIEW           9.99993e+08  ...     2019-10  2019-07\n",
              "2988015  PRODUCT_VIEW           9.99994e+07  ...     2020-04  2020-04\n",
              "2988016  PRODUCT_VIEW           9.99999e+07  ...     2019-10  2019-10\n",
              "\n",
              "[286742 rows x 7 columns]"
            ]
          },
          "metadata": {
            "tags": []
          },
          "execution_count": 42
        }
      ]
    },
    {
      "cell_type": "code",
      "metadata": {
        "id": "uwhMrP6MLTLw",
        "colab_type": "code",
        "colab": {
          "base_uri": "https://localhost:8080/",
          "height": 406
        },
        "outputId": "b29c59de-23bf-4298-d6cd-b517f24d0984"
      },
      "source": [
        "mn_cohort = mn.groupby(['cohort', 'order_month']) \\\n",
        "              .agg(n_customers=('name', 'nunique')) \\\n",
        "              .reset_index(drop=False)\n",
        "mn_cohort['period_number'] = (mn_cohort.order_month - mn_cohort.cohort).apply(attrgetter('n'))\n",
        "mn_cohort"
      ],
      "execution_count": 43,
      "outputs": [
        {
          "output_type": "execute_result",
          "data": {
            "text/html": [
              "<div>\n",
              "<style scoped>\n",
              "    .dataframe tbody tr th:only-of-type {\n",
              "        vertical-align: middle;\n",
              "    }\n",
              "\n",
              "    .dataframe tbody tr th {\n",
              "        vertical-align: top;\n",
              "    }\n",
              "\n",
              "    .dataframe thead th {\n",
              "        text-align: right;\n",
              "    }\n",
              "</style>\n",
              "<table border=\"1\" class=\"dataframe\">\n",
              "  <thead>\n",
              "    <tr style=\"text-align: right;\">\n",
              "      <th></th>\n",
              "      <th>cohort</th>\n",
              "      <th>order_month</th>\n",
              "      <th>n_customers</th>\n",
              "      <th>period_number</th>\n",
              "    </tr>\n",
              "  </thead>\n",
              "  <tbody>\n",
              "    <tr>\n",
              "      <th>0</th>\n",
              "      <td>2019-01</td>\n",
              "      <td>2019-01</td>\n",
              "      <td>11953</td>\n",
              "      <td>0</td>\n",
              "    </tr>\n",
              "    <tr>\n",
              "      <th>1</th>\n",
              "      <td>2019-01</td>\n",
              "      <td>2019-02</td>\n",
              "      <td>880</td>\n",
              "      <td>1</td>\n",
              "    </tr>\n",
              "    <tr>\n",
              "      <th>2</th>\n",
              "      <td>2019-01</td>\n",
              "      <td>2019-03</td>\n",
              "      <td>565</td>\n",
              "      <td>2</td>\n",
              "    </tr>\n",
              "    <tr>\n",
              "      <th>3</th>\n",
              "      <td>2019-01</td>\n",
              "      <td>2019-04</td>\n",
              "      <td>405</td>\n",
              "      <td>3</td>\n",
              "    </tr>\n",
              "    <tr>\n",
              "      <th>4</th>\n",
              "      <td>2019-01</td>\n",
              "      <td>2019-05</td>\n",
              "      <td>269</td>\n",
              "      <td>4</td>\n",
              "    </tr>\n",
              "    <tr>\n",
              "      <th>...</th>\n",
              "      <td>...</td>\n",
              "      <td>...</td>\n",
              "      <td>...</td>\n",
              "      <td>...</td>\n",
              "    </tr>\n",
              "    <tr>\n",
              "      <th>185</th>\n",
              "      <td>2020-05</td>\n",
              "      <td>2020-06</td>\n",
              "      <td>570</td>\n",
              "      <td>1</td>\n",
              "    </tr>\n",
              "    <tr>\n",
              "      <th>186</th>\n",
              "      <td>2020-05</td>\n",
              "      <td>2020-07</td>\n",
              "      <td>201</td>\n",
              "      <td>2</td>\n",
              "    </tr>\n",
              "    <tr>\n",
              "      <th>187</th>\n",
              "      <td>2020-06</td>\n",
              "      <td>2020-06</td>\n",
              "      <td>14416</td>\n",
              "      <td>0</td>\n",
              "    </tr>\n",
              "    <tr>\n",
              "      <th>188</th>\n",
              "      <td>2020-06</td>\n",
              "      <td>2020-07</td>\n",
              "      <td>526</td>\n",
              "      <td>1</td>\n",
              "    </tr>\n",
              "    <tr>\n",
              "      <th>189</th>\n",
              "      <td>2020-07</td>\n",
              "      <td>2020-07</td>\n",
              "      <td>10420</td>\n",
              "      <td>0</td>\n",
              "    </tr>\n",
              "  </tbody>\n",
              "</table>\n",
              "<p>190 rows × 4 columns</p>\n",
              "</div>"
            ],
            "text/plain": [
              "      cohort order_month  n_customers  period_number\n",
              "0    2019-01     2019-01        11953              0\n",
              "1    2019-01     2019-02          880              1\n",
              "2    2019-01     2019-03          565              2\n",
              "3    2019-01     2019-04          405              3\n",
              "4    2019-01     2019-05          269              4\n",
              "..       ...         ...          ...            ...\n",
              "185  2020-05     2020-06          570              1\n",
              "186  2020-05     2020-07          201              2\n",
              "187  2020-06     2020-06        14416              0\n",
              "188  2020-06     2020-07          526              1\n",
              "189  2020-07     2020-07        10420              0\n",
              "\n",
              "[190 rows x 4 columns]"
            ]
          },
          "metadata": {
            "tags": []
          },
          "execution_count": 43
        }
      ]
    },
    {
      "cell_type": "code",
      "metadata": {
        "id": "2tRzVnF7LbbG",
        "colab_type": "code",
        "colab": {}
      },
      "source": [
        "\n",
        "cohort_pivot = mn_cohort.pivot_table(index = 'cohort',\n",
        "                                     columns = 'period_number',\n",
        "                                     values = 'n_customers')\n",
        "\n",
        "cohort_pivot\n",
        "cohort_pivot.to_excel('product_view_abs.xlsx')"
      ],
      "execution_count": 49,
      "outputs": []
    },
    {
      "cell_type": "code",
      "metadata": {
        "id": "mGd-6GOBLpkl",
        "colab_type": "code",
        "colab": {}
      },
      "source": [
        "cohort_size = cohort_pivot.iloc[:,0]\n",
        "retention_matrix = cohort_pivot.divide(cohort_size, axis = 0)"
      ],
      "execution_count": 45,
      "outputs": []
    },
    {
      "cell_type": "code",
      "metadata": {
        "id": "80T-J2_qM1mu",
        "colab_type": "code",
        "colab": {}
      },
      "source": [
        "retention_matrix.to_excel('site_product_view.xlsx')"
      ],
      "execution_count": 48,
      "outputs": []
    },
    {
      "cell_type": "code",
      "metadata": {
        "id": "tCgERQfwLwBW",
        "colab_type": "code",
        "colab": {
          "base_uri": "https://localhost:8080/",
          "height": 584
        },
        "outputId": "ce8b5d4b-6012-4529-8f53-3de866d3f331"
      },
      "source": [
        "with sns.axes_style(\"white\"):\n",
        "    fig, ax = plt.subplots(1, 2, figsize=(12, 8), sharey=True, gridspec_kw={'width_ratios': [1, 11]})\n",
        "    \n",
        "    # retention matrix\n",
        "    sns.heatmap(retention_matrix, \n",
        "                mask=retention_matrix.isnull(), \n",
        "                annot=True, \n",
        "                fmt='.0%', \n",
        "                cmap='RdYlGn', \n",
        "                ax=ax[1])\n",
        "    ax[1].set_title('Monthly Cohorts: User Retention', fontsize=16)\n",
        "    ax[1].set(xlabel='# of periods',\n",
        "              ylabel='')\n",
        "\n",
        "    # cohort size\n",
        "    cohort_size_df = pd.DataFrame(cohort_size).rename(columns={0: 'cohort_size'})\n",
        "    white_cmap = mcolors.ListedColormap(['white'])\n",
        "    sns.heatmap(cohort_size_df, \n",
        "                annot=True, \n",
        "                cbar=False, \n",
        "                fmt='g', \n",
        "                cmap=white_cmap, \n",
        "                ax=ax[0])\n",
        "\n",
        "    fig.tight_layout()"
      ],
      "execution_count": 31,
      "outputs": [
        {
          "output_type": "display_data",
          "data": {
            "image/png": "[encoded data removed]",
            "text/plain": [
              "<Figure size 864x576 with 3 Axes>"
            ]
          },
          "metadata": {
            "tags": []
          }
        }
      ]
    },
    {
      "cell_type": "code",
      "metadata": {
        "id": "o9Ym8hXfMOT-",
        "colab_type": "code",
        "colab": {
          "base_uri": "https://localhost:8080/",
          "height": 524
        },
        "outputId": "84f80984-bd56-46be-85f6-df69dcfbcb5c"
      },
      "source": [
        "cohort_size.plot(title='Кол - во новых покупателелей на сайте', figsize=(12, 8))\n",
        "\n",
        "# после вызова метода .plot() явно\n",
        "# задаем подписи осей x и y\n",
        "\n",
        "\n",
        "plt.xlabel('Временной период')\n",
        "plt.ylabel('Кол -во')\n",
        "plt.grid(True)"
      ],
      "execution_count": 47,
      "outputs": [
        {
          "output_type": "display_data",
          "data": {
            "image/png": "[encoded data removed]",
            "text/plain": [
              "<Figure size 864x576 with 1 Axes>"
            ]
          },
          "metadata": {
            "tags": [],
            "needs_background": "light"
          }
        }
      ]
    }
  ]
}